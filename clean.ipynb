{
 "cells": [
  {
   "cell_type": "code",
   "execution_count": 1,
   "metadata": {},
   "outputs": [],
   "source": [
    "import pandas as pd\n",
    "import re\n",
    "\n",
    "for fi in ['2017-2018_combo.csv', '2016-2017_combo.csv', '2015-2016_combo.csv']:\n",
    "    df = pd.read_csv(fi)\n",
    "#     df.rename(columns=lambda x: x.strip())\n",
    "#     df.rename(columns=lambda x: re.sub(' +', ' ', x))\n",
    "    df.rename(columns=lambda x: ' '.join(x.split()), inplace=True)\n",
    "#     ' '.join(x.split())\n",
    "    \n",
    "    df.to_csv('clean_' + fi)"
   ]
  },
  {
   "cell_type": "code",
   "execution_count": null,
   "metadata": {},
   "outputs": [],
   "source": []
  }
 ],
 "metadata": {
  "kernelspec": {
   "display_name": "Python 3",
   "language": "python",
   "name": "python3"
  },
  "language_info": {
   "codemirror_mode": {
    "name": "ipython",
    "version": 3
   },
   "file_extension": ".py",
   "mimetype": "text/x-python",
   "name": "python",
   "nbconvert_exporter": "python",
   "pygments_lexer": "ipython3",
   "version": "3.6.7"
  }
 },
 "nbformat": 4,
 "nbformat_minor": 2
}
