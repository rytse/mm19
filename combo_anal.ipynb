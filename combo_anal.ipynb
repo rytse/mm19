{
 "cells": [
  {
   "cell_type": "code",
   "execution_count": 1,
   "metadata": {},
   "outputs": [],
   "source": [
    "import numpy as np\n",
    "import pandas as pd\n",
    "import matplotlib.pyplot as plt\n",
    "\n",
    "from sklearn.gaussian_process import GaussianProcessRegressor\n",
    "from sklearn.gaussian_process.kernels import RBF, ConstantKernel as C, Matern, WhiteKernel\n",
    "\n",
    "from sklearn.decomposition import PCA\n",
    "\n",
    "from scipy.stats import zscore\n",
    "\n",
    "np.random.seed(1)\n",
    "\n",
    "combo = pd.read_csv('2016-2017_combo.csv')\n",
    "\n",
    "df = pd.read_excel('cts.xlsx', sheet_name='2016-2017')\n",
    "to_keep = ['Team Name', 'Adj Off Efficiency', 'FG%', 'Avg. Scoring margin',\n",
    "           'Rebounds', 'Wins Last 10 Games ', 'Turnovers per game ']\n",
    "df = df[to_keep]\n",
    "# numeric_cols = df.select_dtypes(include=[np.number]).columns\n",
    "# df[numeric_cols] = df[numeric_cols].apply(zscore)"
   ]
  },
  {
   "cell_type": "code",
   "execution_count": 2,
   "metadata": {},
   "outputs": [
    {
     "name": "stdout",
     "output_type": "stream",
     "text": [
      "Syracuse\n",
      "MTSU\n",
      "MTSU\n",
      "Michigan State\n"
     ]
    }
   ],
   "source": [
    "Xs = []\n",
    "ys = []\n",
    "\n",
    "for idx, row in combo.iterrows():\n",
    "    winner = row['Winner']\n",
    "    loser = row['Loser']\n",
    "\n",
    "    w_v = np.array(df[df['Team Name'] == winner])[0][1:]\n",
    "    l_v = np.array(df[df['Team Name'] == loser])[0][1:]\n",
    "\n",
    "    Xs.append(np.array([w_v, l_v]).flatten())\n",
    "    ys.append(np.array([row['Winner Points'] - row['Loser points']]))\n",
    "\n",
    "X = np.array(Xs)\n",
    "y = np.array(ys)\n",
    "\n",
    "coval = pd.read_csv('2015-2016_combo.csv')\n",
    "val = pd.read_excel('cts.xlsx', sheet_name='2015-2016')\n",
    "val = val[to_keep]\n",
    "# numeric_cols = val.select_dtypes(include=[np.number]).columns\n",
    "# val[numeric_cols] = val[numeric_cols].apply(zscore)\n",
    "\n",
    "Xvs = []\n",
    "yvs = []\n",
    "\n",
    "for idx, row in coval.iterrows():\n",
    "    winner = row['Winner']\n",
    "    loser = row['Loser']\n",
    "\n",
    "    try:\n",
    "        w_v = np.array(val[val['Team Name'] == winner])[0][1:]\n",
    "        l_v = np.array(val[val['Team Name'] == loser])[0][1:]\n",
    "        Xvs.append(np.array([w_v, l_v]).flatten())\n",
    "        yvs.append(np.array([row['Winner Points'] - row['Loser points']]))\n",
    "    except:\n",
    "        print(winner)\n",
    "        print(loser)\n",
    "\n",
    "Xv = np.array(Xvs)\n",
    "yv = np.array(yvs)"
   ]
  },
  {
   "cell_type": "code",
   "execution_count": 3,
   "metadata": {},
   "outputs": [
    {
     "name": "stdout",
     "output_type": "stream",
     "text": [
      "starting\n",
      "0%\n",
      "1%\n",
      "2%\n",
      "3%\n",
      "4%\n",
      "5%\n",
      "6%\n",
      "7%\n",
      "8%\n",
      "9%\n",
      "10%\n",
      "11%\n",
      "12%\n",
      "13%\n",
      "14%\n",
      "15%\n",
      "16%\n",
      "17%\n",
      "18%\n",
      "19%\n",
      "GP Validation R^2: -0.021056828457099552\n",
      "Best RBF Length Scale: 0.001\n",
      "Best RBF Kernel Scale: 0.001\n"
     ]
    }
   ],
   "source": [
    "rep = -1000\n",
    "count = 0\n",
    "rbest = 0\n",
    "obest = 0\n",
    "print('starting')\n",
    "for rbf_val in np.linspace(0.001, 100, 20):\n",
    "    print(f'{count}%')\n",
    "    count += 1\n",
    "    for outside in np.linspace(.001, 100, 20):\n",
    "        gp = GaussianProcessRegressor(outside * RBF(rbf_val),\n",
    "                                      n_restarts_optimizer=10,\n",
    "                                      normalize_y=True)\n",
    "        gp.fit(X, y)\n",
    "        score = gp.score(Xv, yv)\n",
    "        if score > rep:\n",
    "            rbest = rbf_val\n",
    "            obest = outside\n",
    "            rep = score\n",
    "\n",
    "print('GP Validation R^2: ' + str(rep))\n",
    "print(f'Best RBF Length Scale: {rbest}')\n",
    "print(f'Best RBF Kernel Scale: {obest}')"
   ]
  },
  {
   "cell_type": "code",
   "execution_count": 4,
   "metadata": {},
   "outputs": [
    {
     "name": "stdout",
     "output_type": "stream",
     "text": [
      "GP Validation R^2: -0.017788708256136765\n",
      "Best White Noise Parameter: 69.69696972727272\n"
     ]
    }
   ],
   "source": [
    "rep = -1000\n",
    "wbest = 0\n",
    "for wkv in np.linspace(0.0000001, 100, 100):\n",
    "    kernel = obest * RBF(rbest) + WhiteKernel(wkv)\n",
    "    \n",
    "    gp = GaussianProcessRegressor(kernel,\n",
    "                                  n_restarts_optimizer=10,\n",
    "                                  normalize_y=True)\n",
    "    gp.fit(X, y)\n",
    "    score = gp.score(Xv, yv)\n",
    "    if score > rep:\n",
    "        wbest = wkv\n",
    "        rep = score\n",
    "        \n",
    "print('GP Validation R^2: ' + str(rep))\n",
    "print(f'Best White Noise Parameter: {wbest}')"
   ]
  },
  {
   "cell_type": "code",
   "execution_count": 5,
   "metadata": {},
   "outputs": [
    {
     "name": "stdout",
     "output_type": "stream",
     "text": [
      "GP Validation R^2: -0.021056828457099552\n"
     ]
    }
   ],
   "source": [
    "# rbest = 63\n",
    "# obest = 26\n",
    "# wbest = 34\n",
    "\n",
    "kernel = obest * RBF(rbest) + WhiteKernel(wbest)\n",
    "gp = GaussianProcessRegressor(kernel,\n",
    "                                  n_restarts_optimizer=10,\n",
    "                                  normalize_y=True)\n",
    "gp.fit(X, y)\n",
    "rep = gp.score(Xv, yv)\n",
    "\n",
    "print('GP Validation R^2: ' + str(rep))"
   ]
  }
 ],
 "metadata": {
  "kernelspec": {
   "display_name": "Python 3",
   "language": "python",
   "name": "python3"
  },
  "language_info": {
   "codemirror_mode": {
    "name": "ipython",
    "version": 3
   },
   "file_extension": ".py",
   "mimetype": "text/x-python",
   "name": "python",
   "nbconvert_exporter": "python",
   "pygments_lexer": "ipython3",
   "version": "3.6.7"
  }
 },
 "nbformat": 4,
 "nbformat_minor": 2
}
