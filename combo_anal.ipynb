{
 "cells": [
  {
   "cell_type": "code",
   "execution_count": 47,
   "metadata": {},
   "outputs": [],
   "source": [
    "import numpy as np\n",
    "import pandas as pd\n",
    "import matplotlib.pyplot as plt\n",
    "\n",
    "from sklearn.gaussian_process import GaussianProcessRegressor\n",
    "from sklearn.gaussian_process.kernels import RBF, ConstantKernel as C, Matern, WhiteKernel\n",
    "from sklearn import linear_model\n",
    "from sklearn.decomposition import PCA\n",
    "from sklearn.metrics import log_loss\n",
    "\n",
    "from scipy.stats import zscore, log_loss\n",
    "\n",
    "np.random.seed(1)\n",
    "\n",
    "combo = pd.read_csv('2016-2017_combo.csv')\n",
    "df = pd.read_excel('cts.xlsx', sheet_name='2016-2017')\n",
    "to_keep = ['Team Name', 'Adj Off Efficiency', 'Adj Off-Def', 'Adj Def Efficiency', 'FG%',#, 'Strength of Schedule', #'Avg. Scoring margin',\n",
    "           'Rebounds', 'Wins Last 10 Games ', 'Turnovers per game ', 'Coach Record']\n",
    "df = df[to_keep]\n",
    "numeric_cols = df.select_dtypes(include=[np.number]).columns\n",
    "df[numeric_cols] = df[numeric_cols].apply(zscore)"
   ]
  },
  {
   "cell_type": "code",
   "execution_count": 48,
   "metadata": {},
   "outputs": [
    {
     "name": "stdout",
     "output_type": "stream",
     "text": [
      "Syracuse\n",
      "MTSU\n",
      "MTSU\n",
      "Michigan State\n"
     ]
    }
   ],
   "source": [
    "Xs = []\n",
    "ys = []\n",
    "\n",
    "for idx, row in combo.iterrows():\n",
    "    winner = row['Winner']\n",
    "    loser = row['Loser']\n",
    "\n",
    "    w_v = np.array(df[df['Team Name'] == winner])[0][1:]\n",
    "    l_v = np.array(df[df['Team Name'] == loser])[0][1:]\n",
    "\n",
    "    Xs.append(np.array([w_v, l_v]).flatten())\n",
    "    ys.append(np.array([row['Winner Points'] - row['Loser points']]))\n",
    "    \n",
    "    Xs.append(np.array([l_v, w_v]).flatten())\n",
    "    ys.append(np.array([row['Loser points'] - row['Winner Points']]))\n",
    "\n",
    "X = np.array(Xs)\n",
    "y = np.array(ys)\n",
    "\n",
    "coval = pd.read_csv('2015-2016_combo.csv')\n",
    "val = pd.read_excel('cts.xlsx', sheet_name='2015-2016')\n",
    "val = val[to_keep]\n",
    "numeric_cols = val.select_dtypes(include=[np.number]).columns\n",
    "val[numeric_cols] = val[numeric_cols].apply(zscore)\n",
    "\n",
    "Xvs = []\n",
    "yvs = []\n",
    "\n",
    "for idx, row in coval.iterrows():\n",
    "    winner = row['Winner']\n",
    "    loser = row['Loser']\n",
    "    \n",
    "    try:\n",
    "        w_v = np.array(val[val['Team Name'] == winner])[0][1:]\n",
    "        l_v = np.array(val[val['Team Name'] == loser])[0][1:]\n",
    "        Xvs.append(np.array([w_v, l_v]).flatten())\n",
    "        yvs.append(np.array([row['Winner Points'] - row['Loser points']]))\n",
    "        \n",
    "        Xvs.append(np.array([l_v, w_v]).flatten())\n",
    "        yvs.append(np.array([row['Loser points'] - row['Winner Points']]))\n",
    "    except:\n",
    "        print(winner)\n",
    "        print(loser)\n",
    "\n",
    "Xv = np.array(Xvs)\n",
    "yv = np.array(yvs)"
   ]
  },
  {
   "cell_type": "code",
   "execution_count": 49,
   "metadata": {},
   "outputs": [
    {
     "name": "stdout",
     "output_type": "stream",
     "text": [
      "starting\n",
      "0.01\n",
      "0.02\n",
      "0.03\n",
      "0.04\n",
      "0.05\n",
      "0.06\n",
      "0.07\n",
      "0.08\n",
      "0.09\n",
      "0.1\n",
      "0.11\n",
      "0.12\n",
      "0.13\n",
      "0.14\n",
      "0.15\n",
      "0.16\n",
      "0.17\n",
      "0.18\n",
      "0.19\n",
      "0.2\n",
      "0.21\n",
      "0.22\n",
      "0.23\n",
      "0.24\n",
      "0.25\n",
      "0.26\n",
      "0.27\n",
      "0.28\n",
      "0.29\n",
      "0.3\n",
      "0.31\n",
      "0.32\n",
      "0.33\n",
      "0.34\n",
      "0.35\n",
      "0.36\n",
      "0.37\n",
      "0.38\n",
      "0.39\n",
      "0.4\n",
      "0.41\n",
      "0.42\n",
      "0.43\n",
      "0.44\n",
      "0.45\n",
      "0.46\n",
      "0.47\n",
      "0.48\n",
      "0.49\n",
      "0.5\n",
      "0.51\n",
      "0.52\n",
      "0.53\n",
      "0.54\n",
      "0.55\n",
      "0.56\n",
      "0.57\n",
      "0.58\n",
      "0.59\n",
      "0.6\n",
      "0.61\n",
      "0.62\n",
      "0.63\n",
      "0.64\n",
      "0.65\n",
      "0.66\n",
      "0.67\n",
      "0.68\n",
      "0.69\n",
      "0.7\n",
      "0.71\n",
      "0.72\n",
      "0.73\n",
      "0.74\n",
      "0.75\n",
      "0.76\n",
      "0.77\n",
      "0.78\n",
      "0.79\n",
      "0.8\n",
      "0.81\n",
      "0.82\n",
      "0.83\n",
      "0.84\n",
      "0.85\n",
      "0.86\n",
      "0.87\n",
      "0.88\n",
      "0.89\n",
      "0.9\n",
      "0.91\n",
      "0.92\n",
      "0.93\n",
      "0.94\n",
      "0.95\n",
      "0.96\n",
      "0.97\n",
      "0.98\n",
      "0.99\n",
      "1.0\n",
      "GP Validation R^2: 0.34648838295285145\n",
      "Best RBF Length Scale: 56.78404678362572\n",
      "Best RBF Kernel Scale: 16.31652631578947\n",
      "Best White Noise: 82.12121214242423\n"
     ]
    }
   ],
   "source": [
    "rep = -1000\n",
    "rbest_ = 0\n",
    "obest_ = 0\n",
    "wbest_ = 0\n",
    "\n",
    "rbest = 57.89515789473683\n",
    "obest = 26.31652631578947\n",
    "wbest = 78.7878788090909\n",
    "\n",
    "print('starting')\n",
    "count=0\n",
    "for rbf_val in np.linspace(rbest - 10, rbest + 10, 10):\n",
    "    for outside in np.linspace(obest - 10, obest + 10, 10):\n",
    "        for wkb in np.linspace(wbest - 10, wbest + 10, 10):\n",
    "            kernel = outside * RBF(rbf_val) + WhiteKernel(wkb)    \n",
    "            gp = GaussianProcessRegressor(kernel,\n",
    "                                          n_restarts_optimizer=10,\n",
    "                                          normalize_y=True)\n",
    "            gp.fit(X, y)\n",
    "            score = gp.score(Xv, yv)\n",
    "            if score > rep:\n",
    "                rbest_ = rbf_val\n",
    "                obest_ = outside\n",
    "                wbest_ = wkb\n",
    "                rep = score\n",
    "            \n",
    "            count += 1\n",
    "            if count % int(10*10*10/100) == 0:\n",
    "                print(f'{count / (10*10*10)}')\n",
    "                \n",
    "print('GP Validation R^2: ' + str(rep))\n",
    "print(f'Best RBF Length Scale: {rbest_}')\n",
    "print(f'Best RBF Kernel Scale: {obest_}')\n",
    "print(f'Best White Noise: {wbest_}')"
   ]
  },
  {
   "cell_type": "code",
   "execution_count": 51,
   "metadata": {},
   "outputs": [
    {
     "name": "stdout",
     "output_type": "stream",
     "text": [
      "GP Validation R^2: 0.3464881570473396\n"
     ]
    }
   ],
   "source": [
    "kernel = obest_ * RBF(rbest_) + WhiteKernel(wbest_)\n",
    "gp = GaussianProcessRegressor(kernel,\n",
    "                                  n_restarts_optimizer=10,\n",
    "                                  normalize_y=True)\n",
    "gp.fit(X, y)\n",
    "rep = gp.score(Xv, yv)\n",
    "\n",
    "print('GP Validation R^2: ' + str(rep))"
   ]
  },
  {
   "cell_type": "code",
   "execution_count": 52,
   "metadata": {},
   "outputs": [
    {
     "data": {
      "text/plain": [
       "0.36253004000895306"
      ]
     },
     "execution_count": 52,
     "metadata": {},
     "output_type": "execute_result"
    }
   ],
   "source": [
    "lm = linear_model.LinearRegression(fit_intercept=False, normalize=True)\n",
    "lm.fit(X, y)\n",
    "lm.score(Xv, yv)"
   ]
  },
  {
   "cell_type": "code",
   "execution_count": 53,
   "metadata": {},
   "outputs": [
    {
     "name": "stdout",
     "output_type": "stream",
     "text": [
      "Syracuse\n",
      "MTSU\n",
      "MTSU\n",
      "Michigan State\n"
     ]
    }
   ],
   "source": [
    "gp_y_pred = []\n",
    "lm_y_pred = []\n",
    "gp_sd = []\n",
    "tys = []\n",
    "for idx, row in coval.iterrows():\n",
    "    winner = row['Winner']\n",
    "    loser = row['Loser']\n",
    "    \n",
    "    try:\n",
    "        w_v = np.array(val[val['Team Name'] == winner])[0][1:]\n",
    "        l_v = np.array(val[val['Team Name'] == loser])[0][1:]\n",
    "        Xvs.append(np.array([w_v, l_v]).flatten())\n",
    "        yvs.append(np.array([row['Winner Points'] - row['Loser points']]))\n",
    "\n",
    "        gp_y_pred_, gp_sd_ = gp.predict(np.array([w_v, l_v]).flatten().reshape(1, -1), return_std=True)\n",
    "        gp_y_pred.append(gp_y_pred_)\n",
    "        gp_sd.append(gp_sd_)\n",
    "        lm_y_pred.append(lm.predict(np.array([w_v, l_v]).flatten().reshape(1, -1)))\n",
    "        tys.append(row['Winner Points'] - row['Loser points'])\n",
    "    except:\n",
    "        print(winner)\n",
    "        print(loser)\n",
    "\n",
    "gp_y_pred=np.array(gp_y_pred).flatten()\n",
    "lm_y_pred=np.array(lm_y_pred).flatten()\n",
    "gp_sd = np.array(gp_sd).flatten()\n",
    "tys = np.array(tys).flatten()"
   ]
  },
  {
   "cell_type": "code",
   "execution_count": 54,
   "metadata": {},
   "outputs": [
    {
     "data": {
      "text/plain": [
       "(array([ 1.,  4., 11., 16.,  5., 16.,  1.,  4.,  1.,  2.]),\n",
       " array([-7.1620883 , -5.54489204, -3.92769579, -2.31049953, -0.69330328,\n",
       "         0.92389298,  2.54108924,  4.15828549,  5.77548175,  7.39267801,\n",
       "         9.00987426]),\n",
       " <a list of 10 Patch objects>)"
      ]
     },
     "execution_count": 54,
     "metadata": {},
     "output_type": "execute_result"
    },
    {
     "data": {
      "image/png": "[encoded data removed]",
      "text/plain": [
       "<Figure size 432x288 with 1 Axes>"
      ]
     },
     "metadata": {
      "needs_background": "light"
     },
     "output_type": "display_data"
    }
   ],
   "source": [
    "plt.hist(gp_y_pred - lm_y_pred)"
   ]
  },
  {
   "cell_type": "code",
   "execution_count": 55,
   "metadata": {},
   "outputs": [
    {
     "data": {
      "text/plain": [
       "(array([ 1.,  0.,  0.,  0.,  5.,  9., 14., 18., 10.,  4.]),\n",
       " array([-51.12921388, -44.99560596, -38.86199804, -32.72839012,\n",
       "        -26.5947822 , -20.46117428, -14.32756636,  -8.19395844,\n",
       "         -2.06035052,   4.0732574 ,  10.20686532]),\n",
       " <a list of 10 Patch objects>)"
      ]
     },
     "execution_count": 55,
     "metadata": {},
     "output_type": "execute_result"
    },
    {
     "data": {
      "image/png": "[encoded data removed]",
      "text/plain": [
       "<Figure size 432x288 with 1 Axes>"
      ]
     },
     "metadata": {
      "needs_background": "light"
     },
     "output_type": "display_data"
    }
   ],
   "source": [
    "plt.hist(gp_y_pred - tys)"
   ]
  },
  {
   "cell_type": "code",
   "execution_count": 56,
   "metadata": {},
   "outputs": [
    {
     "data": {
      "text/plain": [
       "(array([ 1.,  0.,  0.,  0.,  6.,  6., 11., 19.,  8., 10.]),\n",
       " array([-47.21086157, -41.86709908, -36.52333659, -31.1795741 ,\n",
       "        -25.83581161, -20.49204912, -15.14828664,  -9.80452415,\n",
       "         -4.46076166,   0.88300083,   6.22676332]),\n",
       " <a list of 10 Patch objects>)"
      ]
     },
     "execution_count": 56,
     "metadata": {},
     "output_type": "execute_result"
    },
    {
     "data": {
      "image/png": "[encoded data removed]",
      "text/plain": [
       "<Figure size 432x288 with 1 Axes>"
      ]
     },
     "metadata": {
      "needs_background": "light"
     },
     "output_type": "display_data"
    }
   ],
   "source": [
    "plt.hist(lm_y_pred - tys)"
   ]
  },
  {
   "cell_type": "code",
   "execution_count": 57,
   "metadata": {},
   "outputs": [
    {
     "name": "stdout",
     "output_type": "stream",
     "text": [
      "0.6557377049180327\n"
     ]
    }
   ],
   "source": [
    "correct = 0\n",
    "for i in range(len(tys)):\n",
    "    if tys[i] >= 0:\n",
    "        if lm_y_pred[i] >= 0:\n",
    "            correct += 1\n",
    "    else:\n",
    "        if lm_y_pred[i] < 0:\n",
    "            correct += 1\n",
    "            \n",
    "print(correct/len(tys))"
   ]
  },
  {
   "cell_type": "code",
   "execution_count": 58,
   "metadata": {},
   "outputs": [
    {
     "name": "stdout",
     "output_type": "stream",
     "text": [
      "0.6721311475409836\n"
     ]
    }
   ],
   "source": [
    "correct = 0\n",
    "for i in range(len(tys)):\n",
    "    if tys[i] >= 0:\n",
    "        if gp_y_pred[i] >= 0:\n",
    "            correct += 1\n",
    "    else:\n",
    "        if gp_y_pred[i] < 0:\n",
    "            correct += 1\n",
    "            \n",
    "print(correct/len(tys))"
   ]
  },
  {
   "cell_type": "code",
   "execution_count": 71,
   "metadata": {},
   "outputs": [
    {
     "data": {
      "text/plain": [
       "0.6042594966508172"
      ]
     },
     "execution_count": 71,
     "metadata": {},
     "output_type": "execute_result"
    }
   ],
   "source": [
    "y_pred_probs = 1 - norm.cdf(-gp_y_pred / gp_sd)\n",
    "log_loss(np.array(tys > 0, dtype=np.int), np.array([1 - y_pred_probs, y_pred_probs]).T, labels=[0, 1])"
   ]
  },
  {
   "cell_type": "code",
   "execution_count": null,
   "metadata": {},
   "outputs": [],
   "source": []
  }
 ],
 "metadata": {
  "kernelspec": {
   "display_name": "Python 3",
   "language": "python",
   "name": "python3"
  },
  "language_info": {
   "codemirror_mode": {
    "name": "ipython",
    "version": 3
   },
   "file_extension": ".py",
   "mimetype": "text/x-python",
   "name": "python",
   "nbconvert_exporter": "python",
   "pygments_lexer": "ipython3",
   "version": "3.6.7"
  }
 },
 "nbformat": 4,
 "nbformat_minor": 2
}
